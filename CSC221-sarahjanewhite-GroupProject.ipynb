{
 "cells": [
  {
   "cell_type": "code",
   "execution_count": 1,
   "id": "cddaec58",
   "metadata": {},
   "outputs": [
    {
     "name": "stdout",
     "output_type": "stream",
     "text": [
      "CSV file \"CSC221-webscrape-data.csv\" has been created.\n"
     ]
    }
   ],
   "source": [
    "import requests\n",
    "from bs4 import BeautifulSoup\n",
    "import csv\n",
    "\n",
    "url = 'https://en.m.wikipedia.org/wiki/List_of_best-selling_PlayStation_4_video_games'\n",
    "response = requests.get(url)\n",
    "\n",
    "soup = BeautifulSoup(response.text, 'html.parser')\n",
    "table = soup.find('table', class_='wikitable')\n",
    "\n",
    "filename = 'CSC221-webscrape-data.csv'\n",
    "with open(filename, 'w', newline='') as csvfile:\n",
    "    csvwriter = csv.writer(csvfile)\n",
    "    rows = table.find('tbody').find_all('tr')\n",
    "    for row in rows:\n",
    "        cols = row.find_all(['td', 'th'])\n",
    "        cols = [col.text.strip() for col in cols]\n",
    "        csvwriter.writerow(cols)\n",
    "\n",
    "print(f'CSV file \"{filename}\" has been created.')"
   ]
  },
  {
   "cell_type": "code",
   "execution_count": null,
   "id": "26ce7a90",
   "metadata": {},
   "outputs": [],
   "source": []
  }
 ],
 "metadata": {
  "kernelspec": {
   "display_name": "Python 3 (ipykernel)",
   "language": "python",
   "name": "python3"
  },
  "language_info": {
   "codemirror_mode": {
    "name": "ipython",
    "version": 3
   },
   "file_extension": ".py",
   "mimetype": "text/x-python",
   "name": "python",
   "nbconvert_exporter": "python",
   "pygments_lexer": "ipython3",
   "version": "3.11.7"
  }
 },
 "nbformat": 4,
 "nbformat_minor": 5
}
